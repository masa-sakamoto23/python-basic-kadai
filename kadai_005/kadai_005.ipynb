{
  "nbformat": 4,
  "nbformat_minor": 0,
  "metadata": {
    "colab": {
      "provenance": []
    },
    "kernelspec": {
      "name": "python3",
      "display_name": "Python 3"
    },
    "language_info": {
      "name": "python"
    }
  },
  "cells": [
    {
      "cell_type": "code",
      "execution_count": 2,
      "metadata": {
        "id": "Vt2wIPK0HBi_",
        "colab": {
          "base_uri": "https://localhost:8080/"
        },
        "outputId": "c9f11c11-f636-4cb8-8738-8558bcea8d5a"
      },
      "outputs": [
        {
          "output_type": "stream",
          "name": "stdout",
          "text": [
            "台形の面積は75.0㎠です\n"
          ]
        }
      ],
      "source": [
        "# 台形の面積を求める\n",
        "# 各長さを変数に代入\n",
        "\n",
        "jouhen = 10\n",
        "kahen  = 20\n",
        "takasa = 5\n",
        "\n",
        "# 公式\n",
        "# 台形の面積 =（上辺＋下辺）× 高さ ÷ 2\n",
        "daikei_menseki = (jouhen + kahen) * takasa / 2\n",
        "print(f\"台形の面積は{daikei_menseki}㎠です\")"
      ]
    }
  ]
}