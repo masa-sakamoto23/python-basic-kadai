{
  "nbformat": 4,
  "nbformat_minor": 0,
  "metadata": {
    "colab": {
      "provenance": []
    },
    "kernelspec": {
      "name": "python3",
      "display_name": "Python 3"
    },
    "language_info": {
      "name": "python"
    }
  },
  "cells": [
    {
      "cell_type": "code",
      "execution_count": 3,
      "metadata": {
        "colab": {
          "base_uri": "https://localhost:8080/"
        },
        "id": "0hJCklTuhoXf",
        "outputId": "c4a8637d-be47-43b4-91d6-1138686571f1"
      },
      "outputs": [
        {
          "output_type": "stream",
          "name": "stdout",
          "text": [
            "税込み価格は121.00000000000001円です\n"
          ]
        }
      ],
      "source": [
        "# 与えられた価格と消費税率から税込み価格を計算し、その結果を戻り値として返す関数を定義する\n",
        "def calculate_price_after_taxes(price, tax) -> float:\n",
        "    price_after_taxes = price * (1 + (tax / 100))\n",
        "    return price_after_taxes\n",
        "\n",
        "# 関数を呼び出し、引数として価格と消費税率を渡す。戻り値を変数$price_after_taxesに代入する。\n",
        "price_after_taxes = calculate_price_after_taxes(110, 10)\n",
        "print(f\"税込み価格は{price_after_taxes}円です\")"
      ]
    }
  ]
}