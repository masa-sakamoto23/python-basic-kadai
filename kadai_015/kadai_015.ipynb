{
  "nbformat": 4,
  "nbformat_minor": 0,
  "metadata": {
    "colab": {
      "provenance": []
    },
    "kernelspec": {
      "name": "python3",
      "display_name": "Python 3"
    },
    "language_info": {
      "name": "python"
    }
  },
  "cells": [
    {
      "cell_type": "code",
      "execution_count": 4,
      "metadata": {
        "colab": {
          "base_uri": "https://localhost:8080/"
        },
        "id": "EOJcQNmLZQ2o",
        "outputId": "470466a4-05f6-413f-d342-35b57c4dc31e"
      },
      "outputs": [
        {
          "output_type": "stream",
          "name": "stdout",
          "text": [
            "名前：太郎\n",
            "年齢：30\n",
            "名前：花子\n",
            "年齢：25\n"
          ]
        }
      ],
      "source": [
        "class Human:\n",
        "    def __init__(self, name, age):\n",
        "        self.name = name\n",
        "        self.age = age\n",
        "\n",
        "    # メソッドを定義する\n",
        "    def printinfo(self):\n",
        "        print(f\"名前：{self.name}\")\n",
        "        print(f\"年齢：{self.age}\")\n",
        "\n",
        "# インスタンス化する\n",
        "person1 = Human(\"太郎\", 30)\n",
        "person2 = Human(\"花子\", 25)\n",
        "\n",
        "# メソッドにアクセスして実行する\n",
        "person1.printinfo()\n",
        "person2.printinfo()"
      ]
    }
  ]
}