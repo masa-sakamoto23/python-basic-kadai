{
  "nbformat": 4,
  "nbformat_minor": 0,
  "metadata": {
    "colab": {
      "provenance": []
    },
    "kernelspec": {
      "name": "python3",
      "display_name": "Python 3"
    },
    "language_info": {
      "name": "python"
    }
  },
  "cells": [
    {
      "cell_type": "code",
      "execution_count": 9,
      "metadata": {
        "colab": {
          "base_uri": "https://localhost:8080/"
        },
        "id": "yREy9mH8Dthb",
        "outputId": "fe109907-9052-4dd6-eda7-5310c8a03e8e"
      },
      "outputs": [
        {
          "output_type": "stream",
          "name": "stdout",
          "text": [
            "太郎さんは大人ではありません\n",
            "花子さんは大人です\n",
            "健太さんは大人ではありません\n",
            "翔平さんは大人です\n"
          ]
        }
      ],
      "source": [
        "class Human:\n",
        "    def __init__(self, name, age):\n",
        "        self.name = name\n",
        "        self.age = age\n",
        "\n",
        "    def check_adult(self):\n",
        "        if self.age >= 20:\n",
        "            print(f\"{self.name}さんは大人です\")\n",
        "        else:\n",
        "            print(f\"{self.name}さんは大人ではありません\")\n",
        "\n",
        "# Humanクラスのインスタンスを複数生成してリストに追加\n",
        "persons = [Human(\"太郎\", 15), Human(\"花子\", 20), Human(\"健太\", 18), Human(\"翔平\", 30)]\n",
        "\n",
        "# リストの要素数分だけcheck_adultメソッドを呼び出す\n",
        "for person in persons:\n",
        "    person.check_adult()"
      ]
    }
  ]
}