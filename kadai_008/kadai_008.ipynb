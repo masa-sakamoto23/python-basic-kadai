{
  "nbformat": 4,
  "nbformat_minor": 0,
  "metadata": {
    "colab": {
      "provenance": []
    },
    "kernelspec": {
      "name": "python3",
      "display_name": "Python 3"
    },
    "language_info": {
      "name": "python"
    }
  },
  "cells": [
    {
      "cell_type": "code",
      "execution_count": 164,
      "metadata": {
        "colab": {
          "base_uri": "https://localhost:8080/"
        },
        "id": "WcRv7UXIOt8o",
        "outputId": "35458583-c284-44ec-9373-8f1eb3635e36"
      },
      "outputs": [
        {
          "output_type": "stream",
          "name": "stdout",
          "text": [
            "75\n",
            "FizzBuzz\n"
          ]
        }
      ],
      "source": [
        "# ランダムな整数を利用するために、randomモジュールをインポート\n",
        "import random\n",
        "\n",
        "# 変数varにランダムな整数を代入する\n",
        "var = random.randint(1, 100)\n",
        "\n",
        "# 変数varの値を出力する\n",
        "print(var)\n",
        "\n",
        "''' 変数varが、3の倍数の場合は「Fizz」を出力し、5の倍数の場合は「Buzz」を出力し、\n",
        "　 3の倍数と5の倍数の両方に該当する場合は「FizzBuzz」を出力し、\n",
        "　 それ以外なら変数varの値を出力する'''\n",
        "if (var % 15 == 0):\n",
        "  print(\"FizzBuzz\")\n",
        "elif (var % 3 == 0):\n",
        "  print(\"Fizz\")\n",
        "elif (var % 5 == 0):\n",
        "  print(\"Buzz\")\n",
        "else:\n",
        "  print(var)\n",
        ""
      ]
    }
  ]
}