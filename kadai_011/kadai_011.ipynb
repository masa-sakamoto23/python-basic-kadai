{
  "nbformat": 4,
  "nbformat_minor": 0,
  "metadata": {
    "colab": {
      "provenance": []
    },
    "kernelspec": {
      "name": "python3",
      "display_name": "Python 3"
    },
    "language_info": {
      "name": "python"
    }
  },
  "cells": [
    {
      "cell_type": "code",
      "execution_count": 9,
      "metadata": {
        "colab": {
          "base_uri": "https://localhost:8080/"
        },
        "id": "3E1RAdYV5krU",
        "outputId": "77d89585-d275-46dc-bb46-ed424b4fa8a1"
      },
      "outputs": [
        {
          "output_type": "stream",
          "name": "stdout",
          "text": [
            "水\n",
            "金\n",
            "地\n",
            "火\n",
            "木\n",
            "土\n",
            "天\n",
            "海\n",
            "冥\n",
            "水\n",
            "金\n",
            "地\n",
            "火\n",
            "木\n",
            "土\n",
            "天\n",
            "海\n",
            "冥\n"
          ]
        }
      ],
      "source": [
        "array = [\"水\",\"金\",\"地\",\"火\",\"木\",\"土\",\"天\",\"海\",\"冥\"]\n",
        "\n",
        "# リスト(array)の要素の値をfor文を用いて先頭から取り出し出力する\n",
        "for value in array:\n",
        "    print(value)\n",
        "\n",
        "\n",
        "# リスト(array)のインデックス(index)を初期化する\n",
        "index = 0\n",
        "\n",
        "# リスト(array)の要素の値をwhile文を用いて先頭から取り出し出力する\n",
        "\n",
        "while index < len(array):\n",
        "    print(array[index])\n",
        "    index = index + 1\n"
      ]
    }
  ]
}